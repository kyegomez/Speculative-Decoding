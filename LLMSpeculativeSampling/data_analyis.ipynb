{
 "cells": [
  {
   "cell_type": "markdown",
   "metadata": {},
   "source": [
    "Data Analysis Code"
   ]
  },
  {
   "cell_type": "code",
   "execution_count": null,
   "metadata": {},
   "outputs": [],
   "source": [
    "# Extracting relevant data from the datasets\n",
    "\n",
    "# For Orca-2 Model\n",
    "orca_avg_gamma_speed = orca_data['gamma'].mean()\n",
    "orca_avg_alpha_speed = orca_data['alpha'].mean()\n",
    "orca_avg_approx_speed = orca_data['approx_tokens_p_sec'].mean()\n",
    "orca_avg_target_speed = orca_data['target_tokens_p_second'].mean()\n",
    "orca_avg_sp_speed = orca_data['sp_tokens_p_second'].mean()\n",
    "\n",
    "# For Bloom Model\n",
    "bloom_avg_gamma_speed = bloom_data['gamma'].mean()\n",
    "bloom_avg_alpha_speed = bloom_data['alpha'].mean()\n",
    "bloom_avg_approx_speed = bloom_data['approx_tokens_p_sec'].mean()\n",
    "bloom_avg_target_speed = bloom_data['target_tokens_p_second'].mean()\n",
    "bloom_avg_sp_speed = bloom_data['sp_tokens_p_second'].mean()\n",
    "\n",
    "orca_avg_gamma_speed, orca_avg_alpha_speed, orca_avg_approx_speed, orca_avg_target_speed, orca_avg_sp_speed, \\\n",
    "bloom_avg_gamma_speed, bloom_avg_alpha_speed, bloom_avg_approx_speed, bloom_avg_target_speed, bloom_avg_sp_speed\n",
    "\n"
   ]
  },
  {
   "cell_type": "code",
   "execution_count": null,
   "metadata": {},
   "outputs": [],
   "source": [
    "# Data for plotting without Gamma\n",
    "methods_non_gamma = ['Approximation', 'Target', 'Speculative Decoding']\n",
    "orca_speeds_non_gamma = [orca_avg_approx_speed, orca_avg_target_speed, orca_avg_sp_speed]\n",
    "bloom_speeds_non_gamma = [bloom_avg_approx_speed, bloom_avg_target_speed, bloom_avg_sp_speed]\n",
    "\n",
    "# Create plots without Gamma\n",
    "fig, axes = plt.subplots(nrows=1, ncols=2, figsize=(14, 6))\n",
    "\n",
    "# Orca-2 Model Plot without Gamma\n",
    "axes[0].bar(methods_non_gamma, orca_speeds_non_gamma, color='blue')\n",
    "axes[0].set_title('Orca-2 Model Speeds without Gamma')\n",
    "axes[0].set_ylabel('Tokens per second')\n",
    "axes[0].set_ylim(0, max(orca_speeds_non_gamma) + 0.1)  # Adding some space above the highest bar\n",
    "\n",
    "# Bloom Model Plot without Gamma\n",
    "axes[1].bar(methods_non_gamma, bloom_speeds_non_gamma, color='green')\n",
    "axes[1].set_title('Bloom Model Speeds without Gamma')\n",
    "axes[1].set_ylabel('Tokens per second')\n",
    "axes[1].set_ylim(0, max(bloom_speeds_non_gamma) + 0.1)  # Adding some space above the highest bar\n",
    "\n",
    "plt.tight_layout()\n",
    "plt.show()\n",
    "\n"
   ]
  },
  {
   "cell_type": "code",
   "execution_count": null,
   "metadata": {},
   "outputs": [],
   "source": [
    "import seaborn as sns\n",
    "\n",
    "# Setting up the data for seaborn\n",
    "orca_df = orca_data[['gamma', 'approx_tokens_p_sec', 'target_tokens_p_second', 'sp_tokens_p_second']].melt(id_vars='gamma', var_name='Method', value_name='Tokens/Sec')\n",
    "bloom_df = bloom_data[['gamma', 'approx_tokens_p_sec', 'target_tokens_p_second', 'sp_tokens_p_second']].melt(id_vars='gamma', var_name='Method', value_name='Tokens/Sec')\n",
    "\n",
    "# Set up the matplotlib figure\n",
    "fig, axes = plt.subplots(1, 2, figsize=(20, 8), sharey=True)\n",
    "\n",
    "# Orca Plot\n",
    "sns.lineplot(x='gamma', y='Tokens/Sec', hue='Method', data=orca_df, ax=axes[0])\n",
    "axes[0].set_title('Orca-2 Model Speeds Comparison')\n",
    "axes[0].set_xlabel('Gamma')\n",
    "axes[0].set_ylabel('Tokens per Second')\n",
    "\n",
    "# Bloom Plot\n",
    "sns.lineplot(x='gamma', y='Tokens/Sec', hue='Method', data=bloom_df, ax=axes[1])\n",
    "axes[1].set_title('Bloom Model Speeds Comparison')\n",
    "axes[1].set_xlabel('Gamma')\n",
    "axes[1].set_ylabel('Tokens per Second')\n",
    "\n",
    "# Improve layout\n",
    "plt.tight_layout()\n",
    "\n",
    "# Display plot\n",
    "plt.show()\n",
    "    "
   ]
  },
  {
   "cell_type": "code",
   "execution_count": null,
   "metadata": {},
   "outputs": [],
   "source": [
    "# Let's do some basic statistical analysis to compare the mean speeds of the target, approximation, and speculative decoding\n",
    "# between the two datasets (1 GPU vs 2 GPUs with model parallelism).\n",
    "\n",
    "# Rename columns in 2 GPU dataset to match 1 GPU dataset for easier comparison\n",
    "bloom_2gpu_data.rename(columns={\n",
    "    'target_tok_p_sec': 'target_tokens_p_second',\n",
    "    'approx_token_p_sec': 'approx_tokens_p_sec',\n",
    "    'sp_tok_p_sec': 'sp_tokens_p_second'\n",
    "}, inplace=True)\n",
    "\n",
    "# Compute mean values for each method in both datasets\n",
    "mean_values_1gpu = bloom_1gpu_data[['approx_tokens_p_sec', 'target_tokens_p_second', 'sp_tokens_p_second']].mean()\n",
    "mean_values_2gpu = bloom_2gpu_data[['approx_tokens_p_sec', 'target_tokens_p_second', 'sp_tokens_p_second']].mean()\n",
    "\n",
    "# Create a DataFrame to hold the mean values for easier comparison\n",
    "mean_comparison_df = pd.DataFrame({'1 GPU': mean_values_1gpu, '2 GPUs': mean_values_2gpu})\n",
    "\n",
    "mean_comparison_df\n"
   ]
  },
  {
   "cell_type": "code",
   "execution_count": null,
   "metadata": {},
   "outputs": [],
   "source": [
    "# Update label for 2 GPUs to include Model + Data Parallelism\n",
    "methods_sp_decoding[1] = 'Model + Data Parallelism (2 GPUs)'\n",
    "\n",
    "# Recreate bar plot with updated label\n",
    "plt.figure(figsize=(10, 6))\n",
    "plt.bar(methods_sp_decoding, sp_decoding_speeds, color=['blue', 'green'])\n",
    "plt.title('Speculative Decoding Speeds: 1 GPU vs Model + Data Parallelism (2 GPUs)')\n",
    "plt.ylabel('Tokens per second')\n",
    "plt.xlabel('GPU Configuration')\n",
    "plt.ylim(0, max(sp_decoding_speeds) + 0.01)  # Adding some space above the highest bar\n",
    "plt.show()\n"
   ]
  }
 ],
 "metadata": {
  "language_info": {
   "name": "python"
  }
 },
 "nbformat": 4,
 "nbformat_minor": 2
}
